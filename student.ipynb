{
  "cells": [
    {
      "cell_type": "markdown",
      "metadata": {
        "id": "view-in-github",
        "colab_type": "text"
      },
      "source": [
        "<a href=\"https://colab.research.google.com/github/Mngambi/dsc-phase-1-project-v2-4/blob/master/student.ipynb\" target=\"_parent\"><img src=\"https://colab.research.google.com/assets/colab-badge.svg\" alt=\"Open In Colab\"/></a>"
      ]
    },
    {
      "cell_type": "markdown",
      "metadata": {
        "id": "N7PCtGqxA4Mx"
      },
      "source": [
        "## Final Project Submission\n",
        "\n",
        "Please fill out:\n",
        "* Student name:\n",
        "* Student pace: self paced / part time / full time\n",
        "* Scheduled project review date/time:\n",
        "* Instructor name:\n",
        "* Blog post URL:\n"
      ]
    },
    {
      "cell_type": "markdown",
      "source": [
        "Breden Mugambi  \n",
        "Full Time Hybrid  \n",
        "March 22nd  \n",
        "Nikita Njoroge  \n"
      ],
      "metadata": {
        "id": "6owjq6s_BspZ"
      }
    },
    {
      "cell_type": "markdown",
      "source": [
        "BUSINESS UNDERSTANDING  \n",
        "By understanding different statistics and how they play into the overall movie industry, the project aims to analyse data from different movie sites and their statistics and help Microsoft to make informed decisions that will impact the future decision making of Microsoft"
      ],
      "metadata": {
        "id": "M1wjyWhRe0I9"
      }
    },
    {
      "cell_type": "markdown",
      "source": [
        "**IMPORTING NECESSARY LIBRARIES**  \n",
        "This involves both identifying and importing the necessary libraries as Colab supports many libraries and there is no need to fresh install most of the libraries to be used"
      ],
      "metadata": {
        "id": "TG7GHQeXc6Lr"
      }
    },
    {
      "cell_type": "code",
      "execution_count": 3,
      "metadata": {
        "id": "1sgXkri4A4M0"
      },
      "outputs": [],
      "source": [
        "import numpy as np\n",
        "import seaborn as sns\n",
        "import pandas as pd\n",
        "import matplotlib.pyplot as plt\n",
        "%matplotlib inline\n",
        "import sqlite3"
      ]
    },
    {
      "cell_type": "markdown",
      "source": [
        "**LOADING AND REVIEWING THE DATABASE CONTENTS**  \n",
        "This section aims to both load the database, find out what columns are present and what data represents what in each file and database"
      ],
      "metadata": {
        "id": "XO_2AQaSUuaQ"
      }
    },
    {
      "cell_type": "code",
      "source": [
        "df_bom = pd.read_csv('bom.movie_gross.csv')\n",
        "df_bom.head(5)"
      ],
      "metadata": {
        "id": "iQt1lcTUEYEs"
      },
      "execution_count": null,
      "outputs": []
    },
    {
      "cell_type": "code",
      "source": [
        "df_tmdb = pd.read_csv('tmdb.movies.csv')\n",
        "df_tmdb.head(5)"
      ],
      "metadata": {
        "id": "tTcb-JYDsc7U"
      },
      "execution_count": null,
      "outputs": []
    },
    {
      "cell_type": "code",
      "source": [
        "df_tmdb['original_language'].unique()\n"
      ],
      "metadata": {
        "id": "233PIgaJZV_x"
      },
      "execution_count": null,
      "outputs": []
    },
    {
      "cell_type": "code",
      "source": [
        "df_tn = pd.read_csv('tn.movie_budgets.csv')\n",
        "df_tn.head(5)"
      ],
      "metadata": {
        "id": "laNh8wmUtkPC"
      },
      "execution_count": null,
      "outputs": []
    },
    {
      "cell_type": "code",
      "source": [
        "df_movie_info = pd.read_csv('rt.movie_info.tsv', sep = '\\t')\n",
        "df_movie_info.head(5)"
      ],
      "metadata": {
        "id": "V7nZZAMSuEZi"
      },
      "execution_count": null,
      "outputs": []
    },
    {
      "cell_type": "code",
      "source": [
        "\n",
        "df_reviews = pd.read_csv('rt.reviews.tsv', sep='\\t', encoding='latin1')\n",
        "df_reviews.tail(5)"
      ],
      "metadata": {
        "id": "AwVwxgpFuj78"
      },
      "execution_count": null,
      "outputs": []
    },
    {
      "cell_type": "code",
      "source": [
        "df_movie_budgets = pd.read_csv('tn.movie_budgets.csv')\n",
        "df_movie_budgets.head(5)"
      ],
      "metadata": {
        "id": "fyeRD9SjvOlU"
      },
      "execution_count": null,
      "outputs": []
    },
    {
      "cell_type": "markdown",
      "source": [
        "DATA CLEANING  \n",
        "\n",
        "This involves checking the information of the database and removing all missing and null values"
      ],
      "metadata": {
        "id": "pcByIMDLgHFd"
      }
    },
    {
      "cell_type": "code",
      "source": [
        "df_reviews.info()\n",
        "df_reviews.dropna().head(10)"
      ],
      "metadata": {
        "id": "qKKmNA3u5o5f"
      },
      "execution_count": null,
      "outputs": []
    },
    {
      "cell_type": "code",
      "source": [
        "df_movie_budgets.info()\n",
        "df_movie_budgets.dropna().head(10)"
      ],
      "metadata": {
        "id": "-QO1tI7xBDHK"
      },
      "execution_count": null,
      "outputs": []
    },
    {
      "cell_type": "code",
      "source": [
        "df_movie_info.info()\n",
        "df_movie_info.dropna().head(10)"
      ],
      "metadata": {
        "id": "4ImpqXkXBTiu"
      },
      "execution_count": null,
      "outputs": []
    },
    {
      "cell_type": "code",
      "source": [
        "df_tmdb.info()\n",
        "df_tmdb.dropna().head(10)"
      ],
      "metadata": {
        "id": "YpqwkhXQBY8M"
      },
      "execution_count": null,
      "outputs": []
    },
    {
      "cell_type": "code",
      "source": [
        "df_tn.info()\n",
        "df_tn.dropna().head(10)"
      ],
      "metadata": {
        "id": "WBBDU4C7BnHh"
      },
      "execution_count": null,
      "outputs": []
    },
    {
      "cell_type": "code",
      "source": [
        "df_bom.info()\n",
        "df_bom.dropna().head(10)"
      ],
      "metadata": {
        "id": "13_qQCWfBuIh"
      },
      "execution_count": null,
      "outputs": []
    },
    {
      "cell_type": "markdown",
      "source": [
        "DATA ANALYSIS QUESTIONS  \n",
        "\n",
        "THIS SECTION AIMS TO GENERATE QUESTIONS AND ANSWER THEM THROUGH DATA VISUALIZATION  \n",
        "\n",
        "QUESTIONS  \n",
        "1. What is the most common language that movies are watched in?  \n",
        "2. Does language Affect Popularity?  \n",
        "3. Does average vote affect Popularity?   \n",
        "4. Does Genre affect Popularity?   \n",
        "5. Does budget affect revenue?  \n",
        "6. Is there correlation between genre and runtime?\n"
      ],
      "metadata": {
        "id": "zDKz0dRohXYY"
      }
    },
    {
      "cell_type": "markdown",
      "source": [],
      "metadata": {
        "id": "B2vk43e3hzt_"
      }
    },
    {
      "cell_type": "code",
      "source": [],
      "metadata": {
        "id": "VZyb-cfOLAtu"
      },
      "execution_count": null,
      "outputs": []
    }
  ],
  "metadata": {
    "kernelspec": {
      "display_name": "Python 3",
      "language": "python",
      "name": "python3"
    },
    "language_info": {
      "codemirror_mode": {
        "name": "ipython",
        "version": 3
      },
      "file_extension": ".py",
      "mimetype": "text/x-python",
      "name": "python",
      "nbconvert_exporter": "python",
      "pygments_lexer": "ipython3",
      "version": "3.6.4"
    },
    "colab": {
      "provenance": [],
      "include_colab_link": true
    }
  },
  "nbformat": 4,
  "nbformat_minor": 0
}